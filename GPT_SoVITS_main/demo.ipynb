{
 "cells": [
  {
   "cell_type": "code",
   "execution_count": 1,
   "metadata": {},
   "outputs": [
    {
     "name": "stderr",
     "output_type": "stream",
     "text": [
      "d:\\Anaconda3\\envs\\gpt-sovits\\lib\\site-packages\\torch\\_utils.py:776: UserWarning: TypedStorage is deprecated. It will be removed in the future and UntypedStorage will be the only storage class. This should only matter to you if you are using storages directly.  To access UntypedStorage directly, use tensor.untyped_storage() instead of tensor.storage()\n",
      "  return self.fget.__get__(instance, owner)()\n"
     ]
    },
    {
     "name": "stdout",
     "output_type": "stream",
     "text": [
      "<All keys matched successfully>\n",
      "Number of parameter: 77.49M\n"
     ]
    }
   ],
   "source": [
    "from GPT_SoVITS.inference_webui import generate_tts_wav\n",
    "import numpy as np\n",
    "from scipy.io.wavfile import write\n",
    "import os"
   ]
  },
  {
   "cell_type": "code",
   "execution_count": 2,
   "metadata": {},
   "outputs": [
    {
     "name": "stdout",
     "output_type": "stream",
     "text": [
      "实际输入的目标文本: 晚上十一点。导员突然在微信群里@全员:所有人立刻回寝室，锁好宿舍门，楼道电路起火，工作人员正在检修!我不明白，检修电路为什么要锁门，而且宿舍明明有电。两分钟后，住同宿舍楼的闺蜜私信我:有一个无差别杀人的疯子进了宿舍楼，千万不要开门!\n"
     ]
    },
    {
     "name": "stderr",
     "output_type": "stream",
     "text": [
      "Building prefix dict from the default dictionary ...\n"
     ]
    },
    {
     "name": "stdout",
     "output_type": "stream",
     "text": [
      "实际输入的目标文本(切句后): 晚上十一点。导员突然在微信群里@全员:所有人立刻回寝室，锁好宿舍门，楼道电路起火，工作人员正在检修!我不明白，检修电路为什么要锁门，而且宿舍明明有电。两分钟后，住同宿舍楼的闺蜜私信我:有一个无差别杀人的疯子进了宿舍楼，千万不要开门!\n",
      "实际输入的目标文本(每句): 晚上十一点。导员突然在微信群里@全员:所有人立刻回寝室，锁好宿舍门，楼道电路起火，工作人员正在检修!我不明白，检修电路为什么要锁门，而且宿舍明明有电。两分钟后，住同宿舍楼的闺蜜私信我:有一个无差别杀人的疯子进了宿舍楼，千万不要开门!\n",
      "DEBUG:jieba_fast:Building prefix dict from the default dictionary ...\n"
     ]
    },
    {
     "name": "stderr",
     "output_type": "stream",
     "text": [
      "Loading model from cache C:\\Users\\123\\AppData\\Local\\Temp\\jieba.cache\n"
     ]
    },
    {
     "name": "stdout",
     "output_type": "stream",
     "text": [
      "DEBUG:jieba_fast:Loading model from cache C:\\Users\\123\\AppData\\Local\\Temp\\jieba.cache\n"
     ]
    },
    {
     "name": "stderr",
     "output_type": "stream",
     "text": [
      "Loading model cost 0.760 seconds.\n"
     ]
    },
    {
     "name": "stdout",
     "output_type": "stream",
     "text": [
      "DEBUG:jieba_fast:Loading model cost 0.760 seconds.\n"
     ]
    },
    {
     "name": "stderr",
     "output_type": "stream",
     "text": [
      "Prefix dict has been built succesfully.\n"
     ]
    },
    {
     "name": "stdout",
     "output_type": "stream",
     "text": [
      "DEBUG:jieba_fast:Prefix dict has been built succesfully.\n",
      "前端处理后的文本(每句): 晚上十一点.导员突然在微信群里全员所有人立刻回寝室,锁好宿舍门,楼道电路起火,工作人员正在检修!我不明白,检修电路为什么要锁门,而且宿舍明明有电.两分钟后,住同宿舍楼的闺蜜私信我有一个无差别杀人的疯子进了宿舍楼,千万不要开门!\n"
     ]
    },
    {
     "name": "stderr",
     "output_type": "stream",
     "text": [
      " 36%|███▌      | 533/1500 [00:30<00:55, 17.40it/s]\n"
     ]
    },
    {
     "name": "stdout",
     "output_type": "stream",
     "text": [
      "T2S Decoding EOS [0 -> 534]\n"
     ]
    },
    {
     "name": "stderr",
     "output_type": "stream",
     "text": [
      "d:\\Anaconda3\\envs\\gpt-sovits\\lib\\site-packages\\torch\\functional.py:641: UserWarning: stft with return_complex=False is deprecated. In a future pytorch release, stft will return complex tensors for all inputs, and return_complex=False will raise an error.\n",
      "Note: you can still call torch.view_as_real on the complex output to recover the old return format. (Triggered internally at C:\\actions-runner\\_work\\pytorch\\pytorch\\builder\\windows\\pytorch\\aten\\src\\ATen\\native\\SpectralOps.cpp:867.)\n",
      "  return _VF.stft(input, n_fft, hop_length, win_length, window,  # type: ignore[attr-defined]\n"
     ]
    },
    {
     "name": "stdout",
     "output_type": "stream",
     "text": [
      "3.479\t1.391\t30.650\t12.213\n"
     ]
    }
   ],
   "source": [
    "ref_wav_path = './ref_wav/zzy.wav'\n",
    "out_wav_path = './output/output.wav'\n",
    "# prompt_text = '今天的天气真不错啊，我想出去玩儿'\n",
    "prompt_text = ''\n",
    "prompt_language = '中文'\n",
    "# prompt_language = '中英混合'\n",
    "# text = '使用无参考文本模式时建议使用微调的GPT，听不清参考音频说的啥(不晓得写啥)可以开，开启后无视填写的参考文本。'\n",
    "text = '''\n",
    "晚上十一点。导员突然在微信群里@全员:所有人立刻回寝室，锁好宿舍门，楼道电路起火，工作人员正在检修!我不明白，检修电路为什么要锁门，而且宿舍明明有电。两分钟后，住同宿舍楼的闺蜜私信我:有一个无差别杀人的疯子进了宿舍楼，千万不要开门!'''\n",
    "text_language = '中文'\n",
    "# text_language = '中英混合'\n",
    "sampling_rate, audio_np = generate_tts_wav(ref_wav_path, prompt_text, prompt_language, text, text_language)\n",
    "os.makedirs(os.path.dirname(out_wav_path), exist_ok=True)\n",
    "write(out_wav_path, sampling_rate, audio_np)\n"
   ]
  },
  {
   "cell_type": "code",
   "execution_count": null,
   "metadata": {},
   "outputs": [],
   "source": []
  }
 ],
 "metadata": {
  "kernelspec": {
   "display_name": "gpt-sovits",
   "language": "python",
   "name": "python3"
  },
  "language_info": {
   "codemirror_mode": {
    "name": "ipython",
    "version": 3
   },
   "file_extension": ".py",
   "mimetype": "text/x-python",
   "name": "python",
   "nbconvert_exporter": "python",
   "pygments_lexer": "ipython3",
   "version": "3.9.19"
  }
 },
 "nbformat": 4,
 "nbformat_minor": 2
}
