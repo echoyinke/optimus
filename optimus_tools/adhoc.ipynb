{
 "cells": [
  {
   "cell_type": "code",
   "execution_count": null,
   "metadata": {},
   "outputs": [],
   "source": [
    "from data_utils import *\n",
    "data =read_data(\"/Users/yinke/Documents/emc/230520/file/2025-05/self_select_r1_samples_250516.jsonl\")\n",
    "results=[]\n",
    "for d in data:\n",
    "    for msg in d['args']['messages']:\n",
    "        try:\n",
    "            if \"\\n选股结果中自选股为：\" not in msg['content'] and \"您的自选股\" in d['response']:\n",
    "                results.append({\"dedup_key\":d['qid'], \"messages\":d['args']['messages'], \"old_response\": d['response']})\n",
    "                continue\n",
    "        except:\n",
    "            pass\n",
    "write_json(results, \"./tmp.json\")  \n"
   ]
  },
  {
   "cell_type": "code",
   "execution_count": 18,
   "metadata": {},
   "outputs": [
    {
     "name": "stdout",
     "output_type": "stream",
     "text": [
      "1\n",
      "1\n",
      "1\n",
      "1\n",
      "1\n",
      "1\n",
      "1\n",
      "1\n",
      "1\n",
      "1\n",
      "1\n",
      "1\n",
      "1\n",
      "1\n",
      "1\n",
      "1\n"
     ]
    }
   ],
   "source": [
    "from data_utils import *\n",
    "data =read_data(\"/Users/yinke/VscodeProject/optimus/optimus_tools/tmp2.json\")\n",
    "results=[]\n",
    "for d in data:\n",
    "    for msg in d['messages']:\n",
    "        if \"\\n选股结果中自选股为：\" not in msg['content'] and \"您的自选股\" not in d['response']:\n",
    "            results.append({\"dedup_key\":d['dedup_key'], \"messages\":d['messages'], \"response\": d['response']})\n",
    "            print(1)\n",
    "            continue\n",
    "\n",
    "write_json(results, \"./tmp3.json\")  "
   ]
  },
  {
   "cell_type": "code",
   "execution_count": 14,
   "metadata": {},
   "outputs": [
    {
     "name": "stdout",
     "output_type": "stream",
     "text": [
      "<think>\n",
      "Alright, the user greeted me with \"你好,\" which is \"Hello\" in Chinese. I should respond politely in the same language to maintain the conversation flow. I need to acknowledge their greeting and offer assistance. Let me make sure my response is friendly and open-ended, inviting them to ask for help. Also, I should keep it concise and natural. Okay, here's a suitable reply.\n",
      "</think>\n",
      "\n",
      "你好！很高兴见到你，有什么我可以帮忙的吗？\n"
     ]
    }
   ],
   "source": [
    "from openai import OpenAI\n",
    "\n",
    "import time\n",
    "\n",
    "client = OpenAI(api_key=\"sk-742159699acc4a859d35c999799b501e\", base_url=\"https://api.deepseek.com\")\n",
    "\n",
    "response = client.chat.completions.create(\n",
    "    model=\"deepseek-reasoner\",\n",
    "    messages=[\n",
    "        {\"role\": \"user\", \"content\": \"你好\"},\n",
    "    ],\n",
    "    stream=False\n",
    ")\n",
    "start_time = time.time()\n",
    "\n",
    "reasoning_content = response.choices[0].message.model_extra['reasoning_content']\n",
    "content = response.choices[0].message.content\n",
    "final_response=\"<think>\\n\"+ reasoning_content+\"\\n</think>\\n\\n\"+content\n",
    "print(final_response)\n",
    "\n",
    "\n",
    "for d in results:\n",
    "    response = client.chat.completions.create(\n",
    "    model=\"deepseek-reasoner\",\n",
    "    messages=d['messages'],\n",
    "    stream=False\n",
    "    )\n",
    "    reasoning_content = response.choices[0].message.model_extra['reasoning_content']\n",
    "    content = response.choices[0].message.content   \n",
    "    final_response=\"<think>\\n\"+ reasoning_content+\"\\n</think>\\n\\n\"+content\n",
    "    d['response']=final_response\n",
    "write_json(results, \"./tmp2.json\")  \n"
   ]
  },
  {
   "cell_type": "code",
   "execution_count": 20,
   "metadata": {},
   "outputs": [
    {
     "name": "stdout",
     "output_type": "stream",
     "text": [
      "1\n"
     ]
    }
   ],
   "source": [
    "data = read_data(\"/Users/yinke/Documents/emc/230520/file/2025-05/inset_chart_problems_250516.json\")\n",
    "data=random.sample(data, 10)\n",
    "print(1)\n",
    "results=[]\n",
    "for d in data:\n",
    "    results.append({\"dedup_key\":d['trace_id'], \"messages\":d['messages'], \"response\": d['response']})\n",
    "write_json(results, \"./insert_table.json\")"
   ]
  }
 ],
 "metadata": {
  "kernelspec": {
   "display_name": "Python 3",
   "language": "python",
   "name": "python3"
  },
  "language_info": {
   "codemirror_mode": {
    "name": "ipython",
    "version": 3
   },
   "file_extension": ".py",
   "mimetype": "text/x-python",
   "name": "python",
   "nbconvert_exporter": "python",
   "pygments_lexer": "ipython3",
   "version": "3.10.16"
  }
 },
 "nbformat": 4,
 "nbformat_minor": 2
}
